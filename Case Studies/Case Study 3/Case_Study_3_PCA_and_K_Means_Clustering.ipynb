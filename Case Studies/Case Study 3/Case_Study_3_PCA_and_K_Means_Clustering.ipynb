{
  "nbformat": 4,
  "nbformat_minor": 0,
  "metadata": {
    "colab": {
      "provenance": []
    },
    "kernelspec": {
      "name": "ir",
      "display_name": "R"
    },
    "language_info": {
      "name": "R"
    }
  },
  "cells": [
    {
      "cell_type": "markdown",
      "source": [
        "# **Today's Goal**"
      ],
      "metadata": {
        "id": "oNuhs6tTpbpc"
      }
    },
    {
      "cell_type": "markdown",
      "source": [
        "Welcome to the third case study. This is the last case study in our series and we will be focusing on the practical application of PCA analysis and K-Means Clustering in real-world scenarios. In this case study, we will work on a popular Kaggle challenge: categorizing the countries using socio-economic and health factors that determine the overall development of the country.\n",
        "\n",
        "## **Background:**\n",
        "\n",
        "HELP International have been able to raise around $ 10 million. Now the CEO of the NGO needs to decide how to use this money strategically and effectively. The significant issues that come while making this decision have mostly related to the countries in dire need of Aid. **Our job as a Data analyst is to classify the countries using the socio-economic and health factors that determine the overall development of nations. After this analysis, we need to suggest countries that the CEO needs to focus on and give the highest priority.**\n",
        "\n",
        "## **About the client:**\n",
        "\n",
        "HELP International is an international humanitarian NGO that is committed to fighting poverty and providing the people of less developed countries with basic amenities and relief during the time of disasters and natural calamities."
      ],
      "metadata": {
        "id": "qGp3WtQ5jcTa"
      }
    },
    {
      "cell_type": "markdown",
      "source": [
        "# **Dataset Overview**"
      ],
      "metadata": {
        "id": "yPBB1uwxppPK"
      }
    },
    {
      "cell_type": "markdown",
      "source": [
        "The dataset we will be working with is sourced from a Kaggle collection. It gathers comprehensive information on countries' socio-economic and health statistics. These variables offer valuable insights into the development of nations.\n",
        "\n",
        "Before we start our analysis, please download the dataset 'country_data.csv' from the GitHub folder 'case study'.\n",
        "\n",
        "*The original dataset source: https://www.kaggle.com/datasets/rohan0301/unsupervised-learning-on-country-data?select=data-dictionary.csv.*\n",
        "\n",
        "## **Variable Descriptions**\n",
        "\n",
        "- country: Name of the country,\n",
        "- child_mort: Death of children under five years of age per 1000 live births,\n",
        "- exports: Exports of goods and services; Exports of goods and services given as %age of the Total GDP;\n",
        "- health: Total health spending per capita. Given as %age of GDP per capita\n",
        "- imports: Imports of goods and services, Given as %age of the Total GDP;\n",
        "- income: Net income per person;\n",
        "- inflation: The measurement of the annual growth rate of the Total GDP;\n",
        "- life_expec: The average number of years a newborn child would live if the current mortality patterns are to remain the same;\n",
        "- total_fer: The number of children born to each woman if the current age-fertility rates remain the same.\n",
        "- gdpp: The GDP per capita. Calculated as the Total GDP divided by the total population."
      ],
      "metadata": {
        "id": "uD9XENmUp1vR"
      }
    },
    {
      "cell_type": "markdown",
      "source": [
        "# **1. Getting Started**"
      ],
      "metadata": {
        "id": "zufxRwUrqjSM"
      }
    },
    {
      "cell_type": "markdown",
      "source": [
        "### A. Initial Setups"
      ],
      "metadata": {
        "id": "WN9aGoe7q-nV"
      }
    },
    {
      "cell_type": "markdown",
      "source": [
        "(i) To begin, make sure you have the following libraries installed and loaded in your R environment: **tidyverse, ggplot2, and dplyr**."
      ],
      "metadata": {
        "id": "giT69OeGrJNz"
      }
    },
    {
      "cell_type": "markdown",
      "source": [
        "(ii) Set the seed to '123' to ensure the reproducibility of your results."
      ],
      "metadata": {
        "id": "QUanq5phrifA"
      }
    },
    {
      "cell_type": "markdown",
      "source": [
        "(iii) Now, please load the dataset that you've downloaded into your R environment. Assign this data to an object named 'my_data'."
      ],
      "metadata": {
        "id": "iUqCN5fgr9_x"
      }
    },
    {
      "cell_type": "markdown",
      "source": [
        "### B. Data Cleanings"
      ],
      "metadata": {
        "id": "qv5XUDfFqqTb"
      }
    },
    {
      "cell_type": "markdown",
      "source": [
        "(i) To begin, familiarize yourself with the structure of the dataset."
      ],
      "metadata": {
        "id": "I2qwx3x8qyIt"
      }
    },
    {
      "cell_type": "markdown",
      "source": [
        "(ii) Check if there are any NA values in the dataset using the functions `is.na()` and `any()`.\n",
        "\n",
        "*Hint:*\n",
        "- `is.na()`: Returns a logical vector indicating whether each element of the object is NA or not.\n",
        "- `any()`: Returns TRUE if any element of a logical vector is TRUE, and FALSE otherwise. It's useful for checking if any NA values are present in the dataset.\n"
      ],
      "metadata": {
        "id": "tCoV1QKUE76P"
      }
    },
    {
      "cell_type": "markdown",
      "source": [
        "(iii) How many unique countries are there in our dataset?"
      ],
      "metadata": {
        "id": "4HSYiUruUIDP"
      }
    },
    {
      "cell_type": "markdown",
      "source": [
        "(iv) Generate a statistical summary for the numerical variables in the dataset."
      ],
      "metadata": {
        "id": "dgMWWhl_vibI"
      }
    },
    {
      "cell_type": "markdown",
      "source": [
        "(v) What are the minimum, maximum, mean, and median values of the death of children under 5 years of age per 1000 live births for the countries in the dataset?"
      ],
      "metadata": {
        "id": "A0wXx9D4QXFR"
      }
    },
    {
      "cell_type": "markdown",
      "source": [
        "# **2. Data Visualizations**"
      ],
      "metadata": {
        "id": "wzyx313HximS"
      }
    },
    {
      "cell_type": "markdown",
      "source": [
        "(i) Create a histogram in `lightblue` color to visualize the distribution of life expectancy in the dataset. Make sure you generate a plot with clear title and axis label."
      ],
      "metadata": {
        "id": "NlrPSWUCxuSP"
      }
    },
    {
      "cell_type": "markdown",
      "source": [
        "(ii) Briefly describe the distributions you observed from the generated histogram."
      ],
      "metadata": {
        "id": "15J_rtwf6Y7X"
      }
    },
    {
      "cell_type": "markdown",
      "source": [
        "(iii) Create a scatter plot to visualize the correlation between life expectancy and net income per person. Again, make sure you generate a plot with clear title and axis label."
      ],
      "metadata": {
        "id": "okwnpeu1yOEx"
      }
    },
    {
      "cell_type": "markdown",
      "source": [
        "(iv) What can you infer from the scatter plot?"
      ],
      "metadata": {
        "id": "MYr__ocH_HGc"
      }
    },
    {
      "cell_type": "markdown",
      "source": [
        "# **3. PCA Analysis**"
      ],
      "metadata": {
        "id": "N8Nj_fDyy-jt"
      }
    },
    {
      "cell_type": "markdown",
      "source": [
        "We have observed that the dataset contains a total of 9 development indices. To reduce dimensionality and identify the underlying patterns in these indices, we will perform Principal Component Analysis (PCA).\n",
        "\n",
        "(i) Before conducting PCA, create a new dataset named 'pca_data' by removing the categorical variable 'country' to ensure that the PCA is applied only to the numerical development indices."
      ],
      "metadata": {
        "id": "RwgtQRI5zEdf"
      }
    },
    {
      "cell_type": "markdown",
      "source": [
        "(ii) Next, proceed to perform PCA on the modified dataset, ensuring that the covariates are appropriately scaled.\n",
        "\n",
        "*Hint: use the R function `prcomp()`*"
      ],
      "metadata": {
        "id": "7zchj4panPUV"
      }
    },
    {
      "cell_type": "markdown",
      "source": [
        "(iii) Generate a summary for the PCA analysis results. How many principle components should we choose if we want to explain over 85% variance of the covariates?"
      ],
      "metadata": {
        "id": "xsntD4OIAlZI"
      }
    },
    {
      "cell_type": "markdown",
      "source": [
        "(iv) Extract the loadings for the first five principal components from the PCA results to analyze the contribution of each variable to these components."
      ],
      "metadata": {
        "id": "REc_xcbBzGOx"
      }
    },
    {
      "cell_type": "markdown",
      "source": [
        "(v) Analyze the loadings for the first two principal components, PC1 and PC2. Describe how the covariates contribute to these principal components."
      ],
      "metadata": {
        "id": "f47uA1mp-Vq3"
      }
    },
    {
      "cell_type": "markdown",
      "source": [
        "## **4. K-Means Clustering**"
      ],
      "metadata": {
        "id": "USqFJVEcMsZM"
      }
    },
    {
      "cell_type": "markdown",
      "source": [
        "Having applied PCA to extract the socio-economic and health-related indicators into principal components that capture the essence of country development, we now move to the next important section of our analysis: K-Means Clustering. This algorithm will enable us to group countries into clusters based on their similarities across the principal components identified earlier. By doing so, we can categorize countries into distinct groups, reflecting varying levels of need and development. These clusters will directly inform NGO's strategic decision-making process, allowing for targeted aid allocation where it's most required.\n",
        "\n",
        "(i) First, extract the principal component scores for the first four principle components we identified in the previous section.\n",
        "\n",
        "*Hint: The principal components scores were stored in the `$x` component of the object returned by `prcomp()`. Extract the `$x` component and select only the first four columns.*"
      ],
      "metadata": {
        "id": "i4iXHAwHBPyO"
      }
    },
    {
      "cell_type": "markdown",
      "source": [
        "***Note: These scores represent the coordinates of each observation (in our case, each country) in the new space defined by the principal components and are what we’ll use as input for the K-Means clustering. Put simply, we can treat these four scores as four different variables derived from PCA, encapsulating the information of the initial 9 covariates in a new vector space.***"
      ],
      "metadata": {
        "id": "J1wJqHC4Dl8L"
      }
    },
    {
      "cell_type": "markdown",
      "source": [
        "(ii) Perform K-Means clustering on the dataset containing the principal component scores for the first four components. Initiate the algorithm with 30 starting points and target 3 cluster centers."
      ],
      "metadata": {
        "id": "WLD_gxlGzHoX"
      }
    },
    {
      "cell_type": "markdown",
      "source": [
        "(iii) Create a new variable within the original dataset 'my_data', labeling each observation with the cluster it belongs to."
      ],
      "metadata": {
        "id": "5KltbOy7zJZb"
      }
    },
    {
      "cell_type": "markdown",
      "source": [
        "(iv) Compare the clusters by generating a summary including:\n",
        "- the count of countries in each cluster\n",
        "- the average net income level for each cluster\n",
        "- the average child mortality rate for each cluster\n",
        "- the average life expectancy level for each cluster\n",
        "- the average health expenditure for each cluster\n",
        "- the average GDP per capita for each cluster"
      ],
      "metadata": {
        "id": "Z6OQW_4c5ad6"
      }
    },
    {
      "cell_type": "markdown",
      "source": [
        "(v) How would you inform the NGO about the countries most in need of aid based on the summary generated in (iv)?"
      ],
      "metadata": {
        "id": "N-wYYxseLGNj"
      }
    },
    {
      "cell_type": "markdown",
      "source": [
        "(vi) Bonus: Run the provided code to generate a scatter plot visualizing clusters across two dimensions: income and life expectancy. Based on the plot, which country do you believe shows the most promising development, and which countries do you think are in the most urgent need of assistance?"
      ],
      "metadata": {
        "id": "inceLRoLClF9"
      }
    },
    {
      "cell_type": "code",
      "source": [
        "my_data %>%\n",
        "  as_tibble() %>%\n",
        "  mutate(cluster = my_data$cluster,\n",
        "         state = row.names(my_data)) %>%\n",
        "  ggplot(aes(income, life_expec, color = factor(cluster), label = country)) +\n",
        "  geom_text()"
      ],
      "metadata": {
        "id": "uYQ6YfFiRTga"
      },
      "execution_count": null,
      "outputs": []
    }
  ]
}